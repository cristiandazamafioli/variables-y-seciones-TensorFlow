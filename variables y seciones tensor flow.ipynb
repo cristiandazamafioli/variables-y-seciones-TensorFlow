{
 "cells": [
  {
   "cell_type": "code",
   "execution_count": 1,
   "metadata": {},
   "outputs": [],
   "source": [
    "import tensorflow as tf # importar libreria TensoFlow como tf"
   ]
  },
  {
   "cell_type": "code",
   "execution_count": 4,
   "metadata": {},
   "outputs": [],
   "source": [
    "constante = tf.constant([2.0,3,4],dtype=tf.float32, name='constante1') #definimos nuestra constante float32, grafica computacional osea aun los valores no estan definidos"
   ]
  },
  {
   "cell_type": "code",
   "execution_count": 3,
   "metadata": {},
   "outputs": [
    {
     "name": "stdout",
     "output_type": "stream",
     "text": [
      "Tensor(\"constante1:0\", shape=(3,), dtype=float32)\n"
     ]
    }
   ],
   "source": [
    "print(constante) #aun no imprime los valores que tiene constante"
   ]
  },
  {
   "cell_type": "code",
   "execution_count": 5,
   "metadata": {},
   "outputs": [],
   "source": [
    "apartado = tf.placeholder(tf.float32, name='apartado1') # se define placeholder= variable vacia en un principio pero que se va llenando"
   ]
  },
  {
   "cell_type": "code",
   "execution_count": 11,
   "metadata": {},
   "outputs": [
    {
     "name": "stdout",
     "output_type": "stream",
     "text": [
      "Tensor(\"apartado1:0\", dtype=float32)\n"
     ]
    }
   ],
   "source": [
    "print(apartado) #igualque con la constante no deja imprimir pq no se ha asignado un valor"
   ]
  },
  {
   "cell_type": "code",
   "execution_count": 12,
   "metadata": {},
   "outputs": [],
   "source": [
    "variable = tf.Variable(3,dtype=tf.float32,name='variable1') #tipo de dato variable, si puede cambiar durante la ejecucion"
   ]
  },
  {
   "cell_type": "code",
   "execution_count": 13,
   "metadata": {},
   "outputs": [
    {
     "name": "stdout",
     "output_type": "stream",
     "text": [
      "<tf.Variable 'variable1_1:0' shape=() dtype=float32_ref>\n"
     ]
    }
   ],
   "source": [
    "print (variable) #tampoco deja imprimir, pq no se ha corrido la grafica computacional"
   ]
  },
  {
   "cell_type": "code",
   "execution_count": 18,
   "metadata": {},
   "outputs": [],
   "source": [
    "matriz = tf.zeros([3, 4], tf.int32, name='matriz') # se define una matriz de ceros, para despues alterarla"
   ]
  },
  {
   "cell_type": "code",
   "execution_count": 19,
   "metadata": {},
   "outputs": [
    {
     "name": "stdout",
     "output_type": "stream",
     "text": [
      "Tensor(\"matriz_2:0\", shape=(3, 4), dtype=int32)\n"
     ]
    }
   ],
   "source": [
    "print (matriz)"
   ]
  },
  {
   "cell_type": "code",
   "execution_count": 20,
   "metadata": {},
   "outputs": [],
   "source": [
    "inicializar = tf.global_variables_initializer() # corremos la sesion, primero se inicializan las variables"
   ]
  },
  {
   "cell_type": "code",
   "execution_count": 21,
   "metadata": {},
   "outputs": [],
   "source": [
    "sess = tf.Session() # esta variable es la encargada de correr la grafica computacional"
   ]
  },
  {
   "cell_type": "code",
   "execution_count": 23,
   "metadata": {},
   "outputs": [],
   "source": [
    "sess.run(inicializar) # ahora ya corio la grafica computacional"
   ]
  },
  {
   "cell_type": "code",
   "execution_count": 24,
   "metadata": {},
   "outputs": [
    {
     "name": "stdout",
     "output_type": "stream",
     "text": [
      "[2. 3. 4.]\n"
     ]
    }
   ],
   "source": [
    "print (sess.run(constante)) # ahora si imprime los valores con la funcion sess.run"
   ]
  },
  {
   "cell_type": "code",
   "execution_count": 25,
   "metadata": {},
   "outputs": [
    {
     "name": "stdout",
     "output_type": "stream",
     "text": [
      "[[0 0 0 0]\n",
      " [0 0 0 0]\n",
      " [0 0 0 0]]\n"
     ]
    }
   ],
   "source": [
    "print (sess.run(matriz)) #muestra los datos de la matriz"
   ]
  },
  {
   "cell_type": "code",
   "execution_count": 26,
   "metadata": {},
   "outputs": [
    {
     "name": "stdout",
     "output_type": "stream",
     "text": [
      "3.0\n"
     ]
    }
   ],
   "source": [
    "print (sess.run(variable)) #muestra los datos de la matriz"
   ]
  },
  {
   "cell_type": "code",
   "execution_count": 29,
   "metadata": {},
   "outputs": [
    {
     "data": {
      "text/plain": [
       "<tf.Tensor 'constante1:0' shape=(3,) dtype=float32>"
      ]
     },
     "execution_count": 29,
     "metadata": {},
     "output_type": "execute_result"
    }
   ],
   "source": [
    "constante"
   ]
  },
  {
   "cell_type": "code",
   "execution_count": 30,
   "metadata": {},
   "outputs": [
    {
     "name": "stdout",
     "output_type": "stream",
     "text": [
      "[[0 0 0 0]\n",
      " [0 0 0 0]\n",
      " [0 0 0 0]]\n"
     ]
    }
   ],
   "source": [
    "print (sess.run(matriz)) "
   ]
  },
  {
   "cell_type": "code",
   "execution_count": 31,
   "metadata": {},
   "outputs": [
    {
     "data": {
      "text/plain": [
       "array([[0, 0, 0, 0],\n",
       "       [0, 0, 0, 0],\n",
       "       [0, 0, 0, 0]])"
      ]
     },
     "execution_count": 31,
     "metadata": {},
     "output_type": "execute_result"
    }
   ],
   "source": [
    "sess.run(matriz)"
   ]
  },
  {
   "cell_type": "code",
   "execution_count": 41,
   "metadata": {},
   "outputs": [],
   "source": [
    "multiplicacion = apartado*constante #funcion multiplicacion"
   ]
  },
  {
   "cell_type": "code",
   "execution_count": 45,
   "metadata": {},
   "outputs": [
    {
     "name": "stdout",
     "output_type": "stream",
     "text": [
      "[[30. 30. 20.]]\n"
     ]
    }
   ],
   "source": [
    "print (sess.run(multiplicacion,feed_dict={apartado:[[15,10,5]]})) # a la hora de correr la multiplicacion le asigna valores a apartado"
   ]
  },
  {
   "cell_type": "code",
   "execution_count": 52,
   "metadata": {},
   "outputs": [
    {
     "name": "stdout",
     "output_type": "stream",
     "text": [
      "[[18. 25. 12.]\n",
      " [30. 46. 16.]]\n"
     ]
    }
   ],
   "source": [
    "# multiplicacion de matices necesita llevar la forma (mxn) x (nxm) =(m,m)\n",
    "a = tf.placeholder(tf.float32, shape=(2,2))\n",
    "b = tf.placeholder(tf.float32, shape=(2,3))\n",
    "mult = tf.matmul(a,b)\n",
    "init =tf.global_variables_initializer() # para inicializar las variables\n",
    "sess = tf.Session() # para empezar a correr la grafica computacional\n",
    "sess.run(init)\n",
    "print (sess.run(mult,feed_dict={a:[[1,2],[2,2]], b:[[12,21,4],[3,2,4]]}))"
   ]
  },
  {
   "cell_type": "code",
   "execution_count": 55,
   "metadata": {},
   "outputs": [
    {
     "name": "stdout",
     "output_type": "stream",
     "text": [
      "10.0\n"
     ]
    }
   ],
   "source": [
    "c = tf.placeholder(tf.float32, shape=(3))\n",
    "d = tf.placeholder(tf.float32, shape=(3))\n",
    "punto = tf.tensordot(c,d,1) #producto punto entre dos vectores\n",
    "init = tf.global_variables_initializer() # para inicializar las variables\n",
    "sess = tf.Session() # para empezar a correr la grafica computacional\n",
    "sess.run(init)\n",
    "print (sess.run(punto,feed_dict={c:[1,2,3], d:[3,2,1]}))\n"
   ]
  },
  {
   "cell_type": "code",
   "execution_count": null,
   "metadata": {},
   "outputs": [],
   "source": []
  }
 ],
 "metadata": {
  "kernelspec": {
   "display_name": "Python 3",
   "language": "python",
   "name": "python3"
  },
  "language_info": {
   "codemirror_mode": {
    "name": "ipython",
    "version": 3
   },
   "file_extension": ".py",
   "mimetype": "text/x-python",
   "name": "python",
   "nbconvert_exporter": "python",
   "pygments_lexer": "ipython3",
   "version": "3.7.3"
  }
 },
 "nbformat": 4,
 "nbformat_minor": 2
}
